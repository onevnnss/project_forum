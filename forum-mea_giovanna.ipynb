{
 "cells": [
  {
   "cell_type": "code",
   "execution_count": 1,
   "id": "78e958d0",
   "metadata": {},
   "outputs": [
    {
     "name": "stdout",
     "output_type": "stream",
     "text": [
      "Collecting pandas\n",
      "  Downloading pandas-2.3.2-cp311-cp311-win_amd64.whl.metadata (19 kB)\n",
      "Collecting numpy\n",
      "  Downloading numpy-2.3.3-cp311-cp311-win_amd64.whl.metadata (60 kB)\n",
      "     ---------------------------------------- 0.0/60.9 kB ? eta -:--:--\n",
      "     ------------------------- ------------ 41.0/60.9 kB 991.0 kB/s eta 0:00:01\n",
      "     ---------------------------------------- 60.9/60.9 kB 1.1 MB/s eta 0:00:00\n",
      "Collecting openpyxl\n",
      "  Downloading openpyxl-3.1.5-py2.py3-none-any.whl.metadata (2.5 kB)\n",
      "Requirement already satisfied: python-dateutil>=2.8.2 in c:\\users\\giovanna.araujo_rede\\desktop\\projetos\\poject_forum\\.venv\\lib\\site-packages (from pandas) (2.9.0.post0)\n",
      "Collecting pytz>=2020.1 (from pandas)\n",
      "  Using cached pytz-2025.2-py2.py3-none-any.whl.metadata (22 kB)\n",
      "Collecting tzdata>=2022.7 (from pandas)\n",
      "  Using cached tzdata-2025.2-py2.py3-none-any.whl.metadata (1.4 kB)\n",
      "Collecting et-xmlfile (from openpyxl)\n",
      "  Downloading et_xmlfile-2.0.0-py3-none-any.whl.metadata (2.7 kB)\n",
      "Requirement already satisfied: six>=1.5 in c:\\users\\giovanna.araujo_rede\\desktop\\projetos\\poject_forum\\.venv\\lib\\site-packages (from python-dateutil>=2.8.2->pandas) (1.17.0)\n",
      "Downloading pandas-2.3.2-cp311-cp311-win_amd64.whl (11.3 MB)\n",
      "   ---------------------------------------- 0.0/11.3 MB ? eta -:--:--\n",
      "   - -------------------------------------- 0.4/11.3 MB 8.5 MB/s eta 0:00:02\n",
      "   --- ------------------------------------ 1.0/11.3 MB 12.7 MB/s eta 0:00:01\n",
      "   ------ --------------------------------- 1.9/11.3 MB 15.2 MB/s eta 0:00:01\n",
      "   ---------- ----------------------------- 2.9/11.3 MB 18.3 MB/s eta 0:00:01\n",
      "   -------------- ------------------------- 4.0/11.3 MB 19.8 MB/s eta 0:00:01\n",
      "   ------------------- -------------------- 5.5/11.3 MB 21.9 MB/s eta 0:00:01\n",
      "   ----------------------- ---------------- 6.8/11.3 MB 22.8 MB/s eta 0:00:01\n",
      "   ------------------------------ --------- 8.7/11.3 MB 25.3 MB/s eta 0:00:01\n",
      "   -------------------------------------- - 10.9/11.3 MB 32.7 MB/s eta 0:00:01\n",
      "   ---------------------------------------  11.3/11.3 MB 34.4 MB/s eta 0:00:01\n",
      "   ---------------------------------------  11.3/11.3 MB 34.4 MB/s eta 0:00:01\n",
      "   ---------------------------------------  11.3/11.3 MB 34.4 MB/s eta 0:00:01\n",
      "   ---------------------------------------  11.3/11.3 MB 34.4 MB/s eta 0:00:01\n",
      "   ---------------------------------------  11.3/11.3 MB 34.4 MB/s eta 0:00:01\n",
      "   ---------------------------------------  11.3/11.3 MB 34.4 MB/s eta 0:00:01\n",
      "   ---------------------------------------  11.3/11.3 MB 34.4 MB/s eta 0:00:01\n",
      "   ---------------------------------------  11.3/11.3 MB 34.4 MB/s eta 0:00:01\n",
      "   ---------------------------------------  11.3/11.3 MB 34.4 MB/s eta 0:00:01\n",
      "   ---------------------------------------  11.3/11.3 MB 34.4 MB/s eta 0:00:01\n",
      "   ---------------------------------------  11.3/11.3 MB 34.4 MB/s eta 0:00:01\n",
      "   ---------------------------------------  11.3/11.3 MB 34.4 MB/s eta 0:00:01\n",
      "   ---------------------------------------  11.3/11.3 MB 34.4 MB/s eta 0:00:01\n",
      "   ---------------------------------------  11.3/11.3 MB 34.4 MB/s eta 0:00:01\n",
      "   ---------------------------------------  11.3/11.3 MB 34.4 MB/s eta 0:00:01\n",
      "   ---------------------------------------  11.3/11.3 MB 34.4 MB/s eta 0:00:01\n",
      "   ---------------------------------------  11.3/11.3 MB 34.4 MB/s eta 0:00:01\n",
      "   ---------------------------------------  11.3/11.3 MB 34.4 MB/s eta 0:00:01\n",
      "   ---------------------------------------  11.3/11.3 MB 34.4 MB/s eta 0:00:01\n",
      "   ---------------------------------------  11.3/11.3 MB 34.4 MB/s eta 0:00:01\n",
      "   ---------------------------------------  11.3/11.3 MB 34.4 MB/s eta 0:00:01\n",
      "   ---------------------------------------- 11.3/11.3 MB 8.7 MB/s eta 0:00:00\n",
      "Downloading numpy-2.3.3-cp311-cp311-win_amd64.whl (13.1 MB)\n",
      "   ---------------------------------------- 0.0/13.1 MB ? eta -:--:--\n",
      "   ----- ---------------------------------- 1.7/13.1 MB 35.7 MB/s eta 0:00:01\n",
      "   -------- ------------------------------- 2.8/13.1 MB 36.2 MB/s eta 0:00:01\n",
      "   ------------- -------------------------- 4.5/13.1 MB 35.6 MB/s eta 0:00:01\n",
      "   ------------------ --------------------- 6.0/13.1 MB 38.5 MB/s eta 0:00:01\n",
      "   ------------------- -------------------- 6.5/13.1 MB 31.8 MB/s eta 0:00:01\n",
      "   ----------------------- ---------------- 7.6/13.1 MB 30.4 MB/s eta 0:00:01\n",
      "   ---------------------------- ----------- 9.2/13.1 MB 30.9 MB/s eta 0:00:01\n",
      "   --------------------------------- ------ 10.8/13.1 MB 32.7 MB/s eta 0:00:01\n",
      "   ------------------------------------- -- 12.3/13.1 MB 31.2 MB/s eta 0:00:01\n",
      "   ---------------------------------------  13.1/13.1 MB 32.8 MB/s eta 0:00:01\n",
      "   ---------------------------------------  13.1/13.1 MB 32.8 MB/s eta 0:00:01\n",
      "   ---------------------------------------  13.1/13.1 MB 32.8 MB/s eta 0:00:01\n",
      "   ---------------------------------------  13.1/13.1 MB 32.8 MB/s eta 0:00:01\n",
      "   ---------------------------------------  13.1/13.1 MB 32.8 MB/s eta 0:00:01\n",
      "   ---------------------------------------  13.1/13.1 MB 32.8 MB/s eta 0:00:01\n",
      "   ---------------------------------------  13.1/13.1 MB 32.8 MB/s eta 0:00:01\n",
      "   ---------------------------------------  13.1/13.1 MB 32.8 MB/s eta 0:00:01\n",
      "   ---------------------------------------  13.1/13.1 MB 32.8 MB/s eta 0:00:01\n",
      "   ---------------------------------------  13.1/13.1 MB 32.8 MB/s eta 0:00:01\n",
      "   ---------------------------------------  13.1/13.1 MB 32.8 MB/s eta 0:00:01\n",
      "   ---------------------------------------  13.1/13.1 MB 32.8 MB/s eta 0:00:01\n",
      "   ---------------------------------------  13.1/13.1 MB 32.8 MB/s eta 0:00:01\n",
      "   ---------------------------------------  13.1/13.1 MB 32.8 MB/s eta 0:00:01\n",
      "   ---------------------------------------  13.1/13.1 MB 32.8 MB/s eta 0:00:01\n",
      "   ---------------------------------------  13.1/13.1 MB 32.8 MB/s eta 0:00:01\n",
      "   ---------------------------------------  13.1/13.1 MB 32.8 MB/s eta 0:00:01\n",
      "   ---------------------------------------  13.1/13.1 MB 32.8 MB/s eta 0:00:01\n",
      "   ---------------------------------------  13.1/13.1 MB 32.8 MB/s eta 0:00:01\n",
      "   ---------------------------------------  13.1/13.1 MB 32.8 MB/s eta 0:00:01\n",
      "   ---------------------------------------  13.1/13.1 MB 32.8 MB/s eta 0:00:01\n",
      "   ---------------------------------------  13.1/13.1 MB 32.8 MB/s eta 0:00:01\n",
      "   ---------------------------------------  13.1/13.1 MB 32.8 MB/s eta 0:00:01\n",
      "   ---------------------------------------  13.1/13.1 MB 32.8 MB/s eta 0:00:01\n",
      "   ---------------------------------------  13.1/13.1 MB 32.8 MB/s eta 0:00:01\n",
      "   ---------------------------------------- 13.1/13.1 MB 7.5 MB/s eta 0:00:00\n",
      "Downloading openpyxl-3.1.5-py2.py3-none-any.whl (250 kB)\n",
      "   ---------------------------------------- 0.0/250.9 kB ? eta -:--:--\n",
      "   ---------------------------------------- 250.9/250.9 kB 7.8 MB/s eta 0:00:00\n",
      "Using cached pytz-2025.2-py2.py3-none-any.whl (509 kB)\n",
      "Using cached tzdata-2025.2-py2.py3-none-any.whl (347 kB)\n",
      "Downloading et_xmlfile-2.0.0-py3-none-any.whl (18 kB)\n",
      "Installing collected packages: pytz, tzdata, numpy, et-xmlfile, pandas, openpyxl\n",
      "Successfully installed et-xmlfile-2.0.0 numpy-2.3.3 openpyxl-3.1.5 pandas-2.3.2 pytz-2025.2 tzdata-2025.2\n"
     ]
    },
    {
     "name": "stderr",
     "output_type": "stream",
     "text": [
      "\n",
      "[notice] A new release of pip is available: 24.0 -> 25.2\n",
      "[notice] To update, run: python.exe -m pip install --upgrade pip\n"
     ]
    }
   ],
   "source": [
    "!pip install pandas numpy openpyxl"
   ]
  },
  {
   "cell_type": "code",
   "execution_count": null,
   "id": "8bd701ac",
   "metadata": {},
   "outputs": [
    {
     "name": "stdout",
     "output_type": "stream",
     "text": [
      "Arquivo DESAFIO_SOJA.xlsx carregado com sucesso!\n"
     ]
    }
   ],
   "source": [
    "import pandas as pd\n",
    "import numpy as np\n",
    "\n",
    "# 1. Carregando os dados\n",
    "try:\n",
    "    df = pd.read_excel('DESAFIO_SOJA.xlsx')\n",
    "    print('Arquivo DESAFIO_SOJA.xlsx carregado com sucesso!')\n",
    "\n",
    "except FileNotFoundError:\n",
    "    print('Arquivo DESAFIO_SOJA.xlsx não encontrado. Verifique o caminho e tente novamente.')\n",
    "    exit()"
   ]
  },
  {
   "cell_type": "code",
   "execution_count": null,
   "id": "de506923",
   "metadata": {},
   "outputs": [],
   "source": []
  }
 ],
 "metadata": {
  "kernelspec": {
   "display_name": ".venv (3.11.9)",
   "language": "python",
   "name": "python3"
  },
  "language_info": {
   "codemirror_mode": {
    "name": "ipython",
    "version": 3
   },
   "file_extension": ".py",
   "mimetype": "text/x-python",
   "name": "python",
   "nbconvert_exporter": "python",
   "pygments_lexer": "ipython3",
   "version": "3.11.9"
  }
 },
 "nbformat": 4,
 "nbformat_minor": 5
}
